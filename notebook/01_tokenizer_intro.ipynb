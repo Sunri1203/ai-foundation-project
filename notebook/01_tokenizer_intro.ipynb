{
 "cells": [
  {
   "cell_type": "code",
   "execution_count": 28,
   "id": "509f2217",
   "metadata": {},
   "outputs": [],
   "source": [
    "from transformers import AutoTokenizer,AutoModelForCausalLM\n",
    "import torch\n",
    "\n",
    "model_id = \"TinyLlama/TinyLlama-1.1B-Chat-v1.0\"\n",
    "Token = AutoTokenizer.from_pretrained(model_id)\n",
    "model = AutoModelForCausalLM.from_pretrained(model_id)"
   ]
  },
  {
   "cell_type": "markdown",
   "id": "e5683ee0",
   "metadata": {},
   "source": [
    "使用TinyLlama做測試與學習\n",
    "\n",
    "Token與model的Pretrained\n",
    "\n",
    "函數庫:\n",
    "\n",
    "AutoTokenizer  對應Token\n",
    "\n",
    "AutoModelForCausalLM 對應自然語言LLM"
   ]
  },
  {
   "cell_type": "code",
   "execution_count": 29,
   "id": "c9d65c10",
   "metadata": {},
   "outputs": [
    {
     "name": "stdout",
     "output_type": "stream",
     "text": [
      "LlamaTokenizerFast(name_or_path='TinyLlama/TinyLlama-1.1B-Chat-v1.0', vocab_size=32000, model_max_length=2048, is_fast=True, padding_side='right', truncation_side='right', special_tokens={'bos_token': '<s>', 'eos_token': '</s>', 'unk_token': '<unk>', 'pad_token': '</s>'}, clean_up_tokenization_spaces=False, added_tokens_decoder={\n",
      "\t0: AddedToken(\"<unk>\", rstrip=False, lstrip=False, single_word=False, normalized=False, special=True),\n",
      "\t1: AddedToken(\"<s>\", rstrip=False, lstrip=False, single_word=False, normalized=False, special=True),\n",
      "\t2: AddedToken(\"</s>\", rstrip=False, lstrip=False, single_word=False, normalized=False, special=True),\n",
      "}\n",
      ")\n"
     ]
    }
   ],
   "source": [
    "print(Token)"
   ]
  },
  {
   "cell_type": "markdown",
   "id": "d65c1f32",
   "metadata": {},
   "source": [
    "Tokenizer = 把文字切成 token ID 的工具\n",
    "\n",
    "vocab_size=32000：字典大小，有 32k 個 token（詞彙單位）\n",
    "\n",
    "model_max_length=2048：最多能處理 2048 個 token 的序列\n",
    "\n",
    "special_tokens：像 BOS <s>、EOS </s>，控制輸入/輸出的邊界\n",
    "\n",
    "這是「輸入管道」：文字先經過 tokenizer → 轉成數字 ID"
   ]
  },
  {
   "cell_type": "code",
   "execution_count": 30,
   "id": "90d2b01b",
   "metadata": {},
   "outputs": [
    {
     "name": "stdout",
     "output_type": "stream",
     "text": [
      "LlamaForCausalLM(\n",
      "  (model): LlamaModel(\n",
      "    (embed_tokens): Embedding(32000, 2048)\n",
      "    (layers): ModuleList(\n",
      "      (0-21): 22 x LlamaDecoderLayer(\n",
      "        (self_attn): LlamaAttention(\n",
      "          (q_proj): Linear(in_features=2048, out_features=2048, bias=False)\n",
      "          (k_proj): Linear(in_features=2048, out_features=256, bias=False)\n",
      "          (v_proj): Linear(in_features=2048, out_features=256, bias=False)\n",
      "          (o_proj): Linear(in_features=2048, out_features=2048, bias=False)\n",
      "        )\n",
      "        (mlp): LlamaMLP(\n",
      "          (gate_proj): Linear(in_features=2048, out_features=5632, bias=False)\n",
      "          (up_proj): Linear(in_features=2048, out_features=5632, bias=False)\n",
      "          (down_proj): Linear(in_features=5632, out_features=2048, bias=False)\n",
      "          (act_fn): SiLU()\n",
      "        )\n",
      "        (input_layernorm): LlamaRMSNorm((2048,), eps=1e-05)\n",
      "        (post_attention_layernorm): LlamaRMSNorm((2048,), eps=1e-05)\n",
      "      )\n",
      "    )\n",
      "    (norm): LlamaRMSNorm((2048,), eps=1e-05)\n",
      "    (rotary_emb): LlamaRotaryEmbedding()\n",
      "  )\n",
      "  (lm_head): Linear(in_features=2048, out_features=32000, bias=False)\n",
      ")\n"
     ]
    }
   ],
   "source": [
    "print(model)"
   ]
  },
  {
   "cell_type": "markdown",
   "id": "08be427c",
   "metadata": {},
   "source": [
    "Embedding(32000, 2048)\n",
    "每個 token ID 對應一個 2048 維的向量\n",
    "\n",
    "22 層 LlamaDecoderLayer\n",
    "這就是 Transformer Decoder 堆疊\n",
    "\n",
    "每層有 Self-Attention（Q/K/V 投影 + 輸出）\n",
    "\n",
    "MLP 前饋層（gate_proj → up_proj → down_proj）\n",
    "\n",
    "LayerNorm（RMSNorm）\n",
    "\n",
    "LlamaAttention 裡特別之處：\n",
    "q_proj: 2048→2048\n",
    "k_proj, v_proj: 2048→256（壓縮了維度 → 減少運算量）\n",
    "o_proj: 2048→2048\n",
    "\n",
    "RotaryEmbedding (RoPE)\n",
    "用於 attention 的位置編碼，讓模型理解 token 順序\n",
    "\n",
    "lm_head (Linear 2048→32000)\n",
    "最後一層，全連接層，輸出每個 token 的機率分佈"
   ]
  },
  {
   "cell_type": "code",
   "execution_count": 31,
   "id": "f35fcc4f",
   "metadata": {},
   "outputs": [],
   "source": [
    "from torchsummary import summary"
   ]
  },
  {
   "cell_type": "code",
   "execution_count": 32,
   "id": "dcafc627",
   "metadata": {},
   "outputs": [],
   "source": [
    "#summary(model, input_size=(1, 2048))\n",
    "\n",
    "#summary通常適用在單個模型的打印"
   ]
  },
  {
   "cell_type": "code",
   "execution_count": 33,
   "id": "6ecc7291",
   "metadata": {},
   "outputs": [
    {
     "data": {
      "text/plain": [
       "1100048384"
      ]
     },
     "execution_count": 33,
     "metadata": {},
     "output_type": "execute_result"
    }
   ],
   "source": [
    "#對應1.1B 11億參數量\n",
    "model.num_parameters()"
   ]
  },
  {
   "cell_type": "code",
   "execution_count": 34,
   "id": "640a321c",
   "metadata": {},
   "outputs": [
    {
     "data": {
      "text/plain": [
       "1100048384"
      ]
     },
     "execution_count": 34,
     "metadata": {},
     "output_type": "execute_result"
    }
   ],
   "source": [
    "sum(p.numel() for p in model.parameters())"
   ]
  },
  {
   "cell_type": "markdown",
   "id": "ae4136fd",
   "metadata": {},
   "source": [
    "這是參數量的打印方式"
   ]
  },
  {
   "cell_type": "code",
   "execution_count": 35,
   "id": "4012d350",
   "metadata": {},
   "outputs": [
    {
     "name": "stdout",
     "output_type": "stream",
     "text": [
      "LlamaConfig {\n",
      "  \"architectures\": [\n",
      "    \"LlamaForCausalLM\"\n",
      "  ],\n",
      "  \"attention_bias\": false,\n",
      "  \"attention_dropout\": 0.0,\n",
      "  \"bos_token_id\": 1,\n",
      "  \"eos_token_id\": 2,\n",
      "  \"head_dim\": 64,\n",
      "  \"hidden_act\": \"silu\",\n",
      "  \"hidden_size\": 2048,\n",
      "  \"initializer_range\": 0.02,\n",
      "  \"intermediate_size\": 5632,\n",
      "  \"max_position_embeddings\": 2048,\n",
      "  \"mlp_bias\": false,\n",
      "  \"model_type\": \"llama\",\n",
      "  \"num_attention_heads\": 32,\n",
      "  \"num_hidden_layers\": 22,\n",
      "  \"num_key_value_heads\": 4,\n",
      "  \"pretraining_tp\": 1,\n",
      "  \"rms_norm_eps\": 1e-05,\n",
      "  \"rope_scaling\": null,\n",
      "  \"rope_theta\": 10000.0,\n",
      "  \"tie_word_embeddings\": false,\n",
      "  \"torch_dtype\": \"float32\",\n",
      "  \"transformers_version\": \"4.55.4\",\n",
      "  \"use_cache\": true,\n",
      "  \"vocab_size\": 32000\n",
      "}\n",
      "\n"
     ]
    }
   ],
   "source": [
    "print(model.config)"
   ]
  },
  {
   "cell_type": "code",
   "execution_count": 36,
   "id": "56d9609d",
   "metadata": {},
   "outputs": [],
   "source": [
    "text = \"你好，世界\"\n",
    "tokens = Token(text)"
   ]
  },
  {
   "cell_type": "code",
   "execution_count": 37,
   "id": "5b5d577d",
   "metadata": {},
   "outputs": [
    {
     "name": "stdout",
     "output_type": "stream",
     "text": [
      "<class 'transformers.tokenization_utils_base.BatchEncoding'>\n",
      "{'input_ids': [1, 29871, 30919, 31076, 30214, 30793, 30967], 'attention_mask': [1, 1, 1, 1, 1, 1, 1]}\n",
      "[1, 29871, 30919, 31076, 30214, 30793, 30967]\n",
      "<class 'list'>\n",
      "<class 'list'>\n"
     ]
    }
   ],
   "source": [
    "print(type(tokens))\n",
    "print(tokens)\n",
    "print(tokens.input_ids)\n",
    "print(type(tokens.input_ids))\n",
    "print(type(tokens.attention_mask))"
   ]
  },
  {
   "cell_type": "code",
   "execution_count": 38,
   "id": "cbf51f19",
   "metadata": {},
   "outputs": [
    {
     "name": "stdout",
     "output_type": "stream",
     "text": [
      "<class 'torch.Tensor'>\n",
      "torch.Size([1, 7])\n",
      "<class 'torch.Tensor'>\n",
      "torch.Size([1, 7])\n"
     ]
    }
   ],
   "source": [
    "input_ids = torch.tensor([tokens.input_ids])\n",
    "attention_mask = torch.tensor([tokens.attention_mask])\n",
    "print(type(input_ids))\n",
    "print(input_ids.shape)\n",
    "print(type(attention_mask))\n",
    "print(attention_mask.shape)"
   ]
  },
  {
   "cell_type": "markdown",
   "id": "20104108",
   "metadata": {},
   "source": [
    "轉換資料成Tensor的過程"
   ]
  },
  {
   "cell_type": "code",
   "execution_count": 39,
   "id": "51bbf15e",
   "metadata": {},
   "outputs": [
    {
     "name": "stdout",
     "output_type": "stream",
     "text": [
      "{'input_ids': [1, 29871, 30919, 31076, 30793, 30967], 'attention_mask': [1, 1, 1, 1, 1, 1]}\n",
      "[1, 29871, 30919, 31076, 30793, 30967]\n",
      "[1, 1, 1, 1, 1, 1]\n",
      "token_slow: {'input_ids': tensor([[    1, 29871, 30919, 31076, 30793, 30967]]), 'attention_mask': tensor([[1, 1, 1, 1, 1, 1]])}\n"
     ]
    }
   ],
   "source": [
    "text = \"你好世界\"\n",
    "\n",
    "token_slow_list = Token(text)\n",
    "print(token_slow_list)\n",
    "#可以看到兩者是純List格式\n",
    "print(token_slow_list.input_ids)\n",
    "print(token_slow_list.attention_mask)\n",
    "\n",
    "#轉換成正式格式需要添加\"inputs_ids:\",\"attention_mask:\", 並外包一層[]，才會返回return_tensor的對等格式\n",
    "token_slow = {\n",
    "    \"input_ids\": torch.tensor([token_slow_list.input_ids]),\n",
    "    \"attention_mask\" : torch.tensor([token_slow_list.attention_mask])\n",
    "}\n",
    "\n",
    "print(\"token_slow:\", token_slow)"
   ]
  },
  {
   "cell_type": "code",
   "execution_count": 40,
   "id": "5755d9df",
   "metadata": {},
   "outputs": [
    {
     "name": "stdout",
     "output_type": "stream",
     "text": [
      "token_fast: {'input_ids': tensor([[    1, 29871, 30919, 31076, 30793, 30967]]), 'attention_mask': tensor([[1, 1, 1, 1, 1, 1]])}\n",
      "<class 'torch.Tensor'>\n",
      "torch.Size([1, 6])\n"
     ]
    }
   ],
   "source": [
    "token_fast = Token(text , return_tensors = \"pt\")\n",
    "# return_tensors=\"pt\" 是告訴 tokenizer：把輸出資料直接轉成 PyTorch tensor 格式\n",
    "# 其他格式\"tf\"：TensorFlow tensor ,\"np\"：NumPy array\n",
    "print(\"token_fast:\", token_fast)\n",
    "print(type(token_fast.input_ids))\n",
    "print(token_fast.input_ids.shape)"
   ]
  },
  {
   "cell_type": "markdown",
   "id": "6e483000",
   "metadata": {},
   "source": [
    "Token_slow: 表示原始資料逐步轉換成Tensor的過程\n",
    "\n",
    "Token_fast: 表示直接轉換Tensor的過程\n",
    "\n",
    "透過拆解步驟可以知道return_tensor這個參數做的事情"
   ]
  },
  {
   "cell_type": "code",
   "execution_count": 55,
   "id": "ce8a95d3",
   "metadata": {},
   "outputs": [
    {
     "name": "stdout",
     "output_type": "stream",
     "text": [
      "<class 'transformers.tokenization_utils_base.BatchEncoding'>\n",
      "KeysView({'input_ids': tensor([[    1,  4122,   300,   886, 29991]]), 'attention_mask': tensor([[1, 1, 1, 1, 1]])})\n"
     ]
    }
   ],
   "source": [
    "enc = Token(\"Greetings!\" , return_tensors = \"pt\")\n",
    "\n",
    "#BatchEncoding是Hugging Face transformers套件的特殊字典容器，後續可以進行.to(\"cuda\")的操作\n",
    "#keyView是所有Key的名稱，會打印出所有欄位\n",
    "print(type(enc))\n",
    "\n",
    "#input_ids': tensor([[    1, 15043,  2787, 29991]]) 對應token在詞彙表的位置，文字 → 字典編號\n",
    "#跟向量空間不同: input_ids = 「字典編號」 embedding 向量 = 「字典頁面上的內容」\n",
    "print(enc.keys())"
   ]
  },
  {
   "cell_type": "code",
   "execution_count": 56,
   "id": "0b9b638e",
   "metadata": {},
   "outputs": [
    {
     "name": "stdout",
     "output_type": "stream",
     "text": [
      "{'input_ids': [1, 15043, 2787, 29991], 'attention_mask': [1, 1, 1, 1]}\n"
     ]
    }
   ],
   "source": [
    "token_keyview = Token(\"Hello World!\")\n",
    "#'input_ids': [1, 15043, 2787, 29991]\n",
    "print(token_keyview)\n"
   ]
  },
  {
   "cell_type": "markdown",
   "id": "f9440409",
   "metadata": {},
   "source": [
    "我們回到尚未轉換成tensor的步驟，進行'input_ids': [1, 15043, 2787, 29991]的個數值拆解與還原"
   ]
  },
  {
   "cell_type": "code",
   "execution_count": 57,
   "id": "55e72d29",
   "metadata": {},
   "outputs": [
    {
     "name": "stdout",
     "output_type": "stream",
     "text": [
      "<s> Hello World!\n"
     ]
    }
   ],
   "source": [
    "#對input_ids進行解碼還原\n",
    "decode = Token.decode(token_keyview.input_ids)\n",
    "#<s> Hello World !\n",
    "print(decode)"
   ]
  },
  {
   "cell_type": "code",
   "execution_count": 58,
   "id": "4de0c10e",
   "metadata": {},
   "outputs": [
    {
     "name": "stdout",
     "output_type": "stream",
     "text": [
      "<s> Hello World !\n"
     ]
    }
   ],
   "source": [
    "decode_1 = Token.decode([1])\n",
    "decode_2 = Token.decode([15043])\n",
    "decode_3 = Token.decode([2787])\n",
    "decode_4 = Token.decode([29991])\n",
    "#<s> + Hello + World + !\n",
    "print(decode_1, decode_2, decode_3, decode_4)"
   ]
  },
  {
   "cell_type": "code",
   "execution_count": null,
   "id": "607582e4",
   "metadata": {},
   "outputs": [
    {
     "name": "stdout",
     "output_type": "stream",
     "text": [
      "Greetings!\n",
      "I hope you are doing well. I am writing to you today to express my deepest gratitude for the wonderful services you have provided to me\n"
     ]
    }
   ],
   "source": [
    "#只需要推理，不用訓練更新，所以這段表示停止梯度計算 > 停用梯度追蹤，省記憶體、加速\n",
    "with torch.no_grad():\n",
    "    #generate(**enc)需要dict，勿把tensor格是放入會報錯(因為不是mapping)\n",
    "    outputs_no_grad = model.generate(**enc, max_new_tokens = 30)\n",
    "print(\"outputs_no_grad:\", Token.decode(outputs_no_grad[0], skip_special_tokens = True))"
   ]
  },
  {
   "cell_type": "code",
   "execution_count": null,
   "id": "20e9d340",
   "metadata": {},
   "outputs": [
    {
     "name": "stdout",
     "output_type": "stream",
     "text": [
      "Greetings!\n",
      "I hope you are doing well. I am writing to you today to express my deepest gratitude for the wonderful services you have provided to me\n"
     ]
    }
   ],
   "source": [
    "outputs_with_grad = model.generate(**enc, max_new_tokens = 30)\n",
    "print(\"outputs_with_grad:\", Token.decode(outputs_with_grad[0], skip_special_tokens = True))"
   ]
  },
  {
   "cell_type": "markdown",
   "id": "a4c5960f",
   "metadata": {},
   "source": [
    "no_grad()只關「要不要記錄梯度」\n",
    "\n",
    "它不會改變前向的數值或生成策略，只是省顯存、加速\n",
    "\n",
    "所以在推理時，輸出本來就應該一樣；不同的是資源占用\n",
    "\n",
    "現在的生成是確定性的\n",
    "\n",
    "generate() 的預設是 greedy decoding（不抽樣）：每步都選機率最大的 token\n",
    "\n",
    "確定性的演算法，給相同輸入、相同模型狀態 → 輸出必定相同\n",
    "\n",
    "想看到「會變」：改用抽樣"
   ]
  },
  {
   "cell_type": "code",
   "execution_count": 79,
   "id": "9dbbabd2",
   "metadata": {},
   "outputs": [
    {
     "name": "stdout",
     "output_type": "stream",
     "text": [
      "outputs_sampling_1: <s> Greetings! I am excited to share with you the next installment of the 15 Minute Meal Plan series. This time, I will show you\n"
     ]
    }
   ],
   "source": [
    "outputs_sampling_1 = model.generate(**enc, max_new_tokens=30, do_sample=True, temperature=0.8, top_p=0.9)\n",
    "print(\"outputs_sampling_1:\", Token.decode(outputs_sampling_1[0], skip_sepical_tokens = True))"
   ]
  },
  {
   "cell_type": "code",
   "execution_count": 80,
   "id": "d55ce80c",
   "metadata": {},
   "outputs": [
    {
     "name": "stdout",
     "output_type": "stream",
     "text": [
      "outputs_sampling_2: <s> Greetings! This weekend, I have the pleasure of hosting a book signing at the local library. The library is a great place to connect with readers and the\n"
     ]
    }
   ],
   "source": [
    "outputs_sampling_2 = model.generate(**enc, max_new_tokens=30, do_sample=True, temperature=0.8, top_p=0.9)\n",
    "print(\"outputs_sampling_2:\", Token.decode(outputs_sampling_2[0], skip_sepical_tokens = True))"
   ]
  },
  {
   "cell_type": "markdown",
   "id": "631d2257",
   "metadata": {},
   "source": [
    "torch.no_grad()：影響資源，不影響輸出內容\n",
    "想看到不同輸出：用抽樣（do_sample=True 等），或改種子來「可重現的隨機」\n",
    "\n",
    "\n",
    "需要的話我可以給你一個小腳本，對比：\n",
    "\n",
    "greedy（固定輸出）\n",
    "\n",
    "sampling（會變，但設 seed 可重現）\n",
    "\n",
    "並顯示顯存占用在有/沒有 no_grad() 下的差異"
   ]
  },
  {
   "cell_type": "code",
   "execution_count": 81,
   "id": "252f487d",
   "metadata": {},
   "outputs": [
    {
     "name": "stdout",
     "output_type": "stream",
     "text": [
      "<s> Greetings!\n",
      "I hope you are doing well. I am writing to you today to express my deepest gratitude for the wonderful services you have provided to me\n"
     ]
    }
   ],
   "source": [
    "# ------------------------- 看清楚「Tensor」長什麼樣 -------------------------\n",
    "\n",
    "input_ids = enc[\"input_ids\"].to(model.device)\n",
    "attention_mask = enc[\"attention_mask\"].to(model.device)\n",
    "\n",
    "with torch.no_grad():\n",
    "    outputs = model.generate(input_ids = input_ids, attention_mask = attention_mask , max_new_tokens = 30)\n",
    "\n",
    "print(Token.decode(outputs[0], skip_speical_tokens = False))"
   ]
  },
  {
   "cell_type": "code",
   "execution_count": null,
   "id": "f008de9a",
   "metadata": {},
   "outputs": [
    {
     "name": "stdout",
     "output_type": "stream",
     "text": [
      "[{'role': 'system', 'content': 'You are a inteligent AI assistant.'}, {'role': 'user', 'content': 'Greeting how are you?'}]\n",
      "<|system|>\n",
      "You are a inteligent AI assistant.</s>\n",
      "<|user|>\n",
      "Greeting how are you?</s>\n",
      "<|assistant|>\n",
      "\n",
      "Greetings!\n",
      "I hope you are doing well. I am writing to you today to express my deepest gratitude for the wonderful services you have provided to me\n"
     ]
    }
   ],
   "source": [
    "# ------------------------- 多輪對話 -------------------------\n",
    "\n",
    "#定義Prompt 與 question\n",
    "message = [\n",
    "    {\n",
    "        \"role\": \"system\" , \"content\" : \"You are a inteligent AI assistant.\"\n",
    "    },\n",
    "    {\n",
    "        \"role\" : \"user\", \"content\" : \"Greeting how are you?\" \n",
    "    }\n",
    "]\n",
    "\n",
    "print(message)\n",
    "\n",
    "#apply_chat_temple會把多輪對話轉成模型可懂的字串\n",
    "prompt_text = Token.apply_chat_template(\n",
    "    message, tokenize = False, add_generation_prompt = True\n",
    ")\n",
    "\n",
    "#觀看輸出\n",
    "print(prompt_text)\n",
    "\n",
    "enc_chat = Token(prompt_text, return_tensors = \"pt\").to(model.device)\n",
    "with torch.no_grad():\n",
    "    outputs_chat = model.generate(**enc, max_new_tokens = 30)\n",
    "\n",
    "print(Token.decode(outputs_chat[0] , skip_special_tokens = True))"
   ]
  },
  {
   "cell_type": "code",
   "execution_count": 133,
   "id": "a43702a1",
   "metadata": {},
   "outputs": [
    {
     "name": "stdout",
     "output_type": "stream",
     "text": [
      "[{'role': 'system', 'content': 'You are a inteligent AI assistant.'}, {'role': 'user', 'content': 'Greeting how are you?'}]\n",
      "[529, 29989, 5205, 29989, 29958, 13, 3492, 526, 263, 13856, 25692, 319, 29902, 20255, 29889, 2, 29871, 13, 29966, 29989, 1792, 29989, 29958, 13, 29954, 4521, 292, 920, 526, 366, 29973, 2, 29871, 13, 29966, 29989, 465, 22137, 29989, 29958, 13]\n"
     ]
    }
   ],
   "source": [
    "message = [\n",
    "    {\n",
    "        \"role\": \"system\" , \"content\" : \"You are a inteligent AI assistant.\"\n",
    "    },\n",
    "    {\n",
    "        \"role\" : \"user\", \"content\" : \"Greeting how are you?\" \n",
    "    }\n",
    "]\n",
    "\n",
    "print(message)\n",
    "#apply_chat_temple會把多輪對話轉成模型可懂的字串\n",
    "#這次使用Tokenize的功能\n",
    "prompt_text_token = Token.apply_chat_template(\n",
    "    message, tokenize = True, add_generation_prompt = True\n",
    ")\n",
    "\n",
    "#輸出轉成了Token形式\n",
    "print(prompt_text_token)"
   ]
  },
  {
   "cell_type": "code",
   "execution_count": 135,
   "id": "20d8baee",
   "metadata": {},
   "outputs": [
    {
     "name": "stdout",
     "output_type": "stream",
     "text": [
      "<|system|>\n",
      "You are a inteligent AI assistant.</s> \n",
      "<|user|>\n",
      "Greeting how are you?</s> \n",
      "<|assistant|>\n",
      "\n"
     ]
    }
   ],
   "source": [
    "#使用decode轉回\n",
    "#等價tokenize = False\n",
    "prompt_text_reture = Token.decode(prompt_text_token , skip_special_tokens= False)\n",
    "print(prompt_text_reture)"
   ]
  },
  {
   "cell_type": "code",
   "execution_count": 141,
   "id": "0ba27081",
   "metadata": {},
   "outputs": [
    {
     "name": "stdout",
     "output_type": "stream",
     "text": [
      "{'input_ids': tensor([[    1,   529, 29989,  5205, 29989, 29958,    13,  3492,   526,   263,\n",
      "         13856, 25692,   319, 29902, 20255, 29889,     2,   259,    13, 29966,\n",
      "         29989,  1792, 29989, 29958,    13, 29954,  4521,   292,   920,   526,\n",
      "           366, 29973,     2,   259,    13, 29966, 29989,   465, 22137, 29989,\n",
      "         29958,    13]]), 'attention_mask': tensor([[1, 1, 1, 1, 1, 1, 1, 1, 1, 1, 1, 1, 1, 1, 1, 1, 1, 1, 1, 1, 1, 1, 1, 1,\n",
      "         1, 1, 1, 1, 1, 1, 1, 1, 1, 1, 1, 1, 1, 1, 1, 1, 1, 1]])}\n"
     ]
    }
   ],
   "source": [
    "prompt_text_in = Token(prompt_text_reture, return_tensors= \"pt\").to(model.device)\n",
    "print(prompt_text_in)"
   ]
  },
  {
   "cell_type": "code",
   "execution_count": 142,
   "id": "19e18789",
   "metadata": {},
   "outputs": [],
   "source": [
    "with torch.no_grad():\n",
    "    # **給入mapping資料\n",
    "    outputs = model.generate(**prompt_text_in, max_new_tokens = 80)"
   ]
  },
  {
   "cell_type": "code",
   "execution_count": 143,
   "id": "aff1dcfb",
   "metadata": {},
   "outputs": [
    {
     "name": "stdout",
     "output_type": "stream",
     "text": [
      "tensor([[    1,   529, 29989,  5205, 29989, 29958,    13,  3492,   526,   263,\n",
      "         13856, 25692,   319, 29902, 20255, 29889,     2,   259,    13, 29966,\n",
      "         29989,  1792, 29989, 29958,    13, 29954,  4521,   292,   920,   526,\n",
      "           366, 29973,     2,   259,    13, 29966, 29989,   465, 22137, 29989,\n",
      "         29958,    13, 29902,   626,  1532, 29892,  6452,   366, 29889,  1128,\n",
      "           526,   366, 29973,     2]])\n"
     ]
    }
   ],
   "source": [
    "print(outputs)\n",
    "get_outputs = outputs[0, prompt_text_in[\"input_ids\"].shape[1]:]"
   ]
  },
  {
   "cell_type": "code",
   "execution_count": 144,
   "id": "fc12c86a",
   "metadata": {},
   "outputs": [
    {
     "name": "stdout",
     "output_type": "stream",
     "text": [
      "I am well, thank you. How are you?\n"
     ]
    }
   ],
   "source": [
    "print(Token.decode(get_outputs, skip_special_tokens= True))"
   ]
  },
  {
   "cell_type": "markdown",
   "id": "00d32dba",
   "metadata": {},
   "source": [
    "取具有隨機與更聰明的輸出"
   ]
  },
  {
   "cell_type": "code",
   "execution_count": null,
   "id": "9d1ec4cc",
   "metadata": {},
   "outputs": [
    {
     "name": "stdout",
     "output_type": "stream",
     "text": [
      "tensor([[    1,   529, 29989,  5205, 29989, 29958,    13,  3492,   526,   263,\n",
      "         13856, 25692,   319, 29902, 20255, 29889,     2,   259,    13, 29966,\n",
      "         29989,  1792, 29989, 29958,    13, 29954,  4521,   292,   920,   526,\n",
      "           366, 29973,     2,   259,    13, 29966, 29989,   465, 22137, 29989,\n",
      "         29958,    13, 29902,   626, 10932,   304,  8293,   515,   366, 29889,\n",
      "           306,   626,  2691, 29892,  6452,   366, 29889,  1128,  1048,   366,\n",
      "         29973,     2]])\n"
     ]
    }
   ],
   "source": [
    "from transformers import set_seed\n",
    "set_seed(42)\n",
    "outputs_sampling_test = model.generate(\n",
    "    **prompt_text_in, max_new_tokens=80,\n",
    "    do_sample=True, temperature=0.7, top_p=0.9\n",
    ")\n",
    "\n",
    "print(outputs_sampling_test)"
   ]
  },
  {
   "cell_type": "code",
   "execution_count": 152,
   "id": "c50859b1",
   "metadata": {},
   "outputs": [],
   "source": [
    "get_outputs_sampling_test = outputs_sampling_test[0, prompt_text_in[\"input_ids\"].shape[1]:]"
   ]
  },
  {
   "cell_type": "code",
   "execution_count": 153,
   "id": "3cdad70d",
   "metadata": {},
   "outputs": [
    {
     "name": "stdout",
     "output_type": "stream",
     "text": [
      "<|system|>\n",
      "You are a inteligent AI assistant.  \n",
      "<|user|>\n",
      "Greeting how are you?  \n",
      "<|assistant|>\n",
      "I am glad to hear from you. I am fine, thank you. How about you?\n"
     ]
    }
   ],
   "source": [
    "print(Token.decode(outputs_sampling_test[0], skip_special_tokens= True))"
   ]
  },
  {
   "cell_type": "code",
   "execution_count": 154,
   "id": "5d412a95",
   "metadata": {},
   "outputs": [
    {
     "name": "stdout",
     "output_type": "stream",
     "text": [
      "I am glad to hear from you. I am fine, thank you. How about you?\n"
     ]
    }
   ],
   "source": [
    "print(Token.decode(get_outputs_sampling_test, skip_special_tokens= True))"
   ]
  },
  {
   "cell_type": "code",
   "execution_count": null,
   "id": "56525e60",
   "metadata": {},
   "outputs": [],
   "source": []
  }
 ],
 "metadata": {
  "kernelspec": {
   "display_name": "ai-core",
   "language": "python",
   "name": "python3"
  },
  "language_info": {
   "codemirror_mode": {
    "name": "ipython",
    "version": 3
   },
   "file_extension": ".py",
   "mimetype": "text/x-python",
   "name": "python",
   "nbconvert_exporter": "python",
   "pygments_lexer": "ipython3",
   "version": "3.11.13"
  }
 },
 "nbformat": 4,
 "nbformat_minor": 5
}
