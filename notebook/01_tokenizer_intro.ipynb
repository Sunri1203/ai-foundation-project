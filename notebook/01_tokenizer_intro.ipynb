{
 "cells": [
  {
   "cell_type": "code",
   "execution_count": 1,
   "id": "509f2217",
   "metadata": {},
   "outputs": [
    {
     "name": "stderr",
     "output_type": "stream",
     "text": [
      "c:\\Users\\User\\miniconda3\\envs\\ai-core\\Lib\\site-packages\\tqdm\\auto.py:21: TqdmWarning: IProgress not found. Please update jupyter and ipywidgets. See https://ipywidgets.readthedocs.io/en/stable/user_install.html\n",
      "  from .autonotebook import tqdm as notebook_tqdm\n"
     ]
    }
   ],
   "source": [
    "from transformers import AutoTokenizer,AutoModelForCausalLM\n",
    "import torch\n",
    "\n",
    "model_id = \"TinyLlama/TinyLlama-1.1B-Chat-v1.0\"\n",
    "Token = AutoTokenizer.from_pretrained(model_id)\n",
    "model = AutoModelForCausalLM.from_pretrained(model_id)"
   ]
  },
  {
   "cell_type": "markdown",
   "id": "e5683ee0",
   "metadata": {},
   "source": [
    "使用TinyLlama做測試與學習\n",
    "\n",
    "Token與model的Pretrained\n",
    "\n",
    "函數庫:\n",
    "\n",
    "AutoTokenizer  對應Token\n",
    "\n",
    "AutoModelForCausalLM 對應自然語言LLM"
   ]
  },
  {
   "cell_type": "code",
   "execution_count": 2,
   "id": "c9d65c10",
   "metadata": {},
   "outputs": [
    {
     "name": "stdout",
     "output_type": "stream",
     "text": [
      "LlamaTokenizerFast(name_or_path='TinyLlama/TinyLlama-1.1B-Chat-v1.0', vocab_size=32000, model_max_length=2048, is_fast=True, padding_side='right', truncation_side='right', special_tokens={'bos_token': '<s>', 'eos_token': '</s>', 'unk_token': '<unk>', 'pad_token': '</s>'}, clean_up_tokenization_spaces=False, added_tokens_decoder={\n",
      "\t0: AddedToken(\"<unk>\", rstrip=False, lstrip=False, single_word=False, normalized=False, special=True),\n",
      "\t1: AddedToken(\"<s>\", rstrip=False, lstrip=False, single_word=False, normalized=False, special=True),\n",
      "\t2: AddedToken(\"</s>\", rstrip=False, lstrip=False, single_word=False, normalized=False, special=True),\n",
      "}\n",
      ")\n"
     ]
    }
   ],
   "source": [
    "print(Token)"
   ]
  },
  {
   "cell_type": "markdown",
   "id": "d65c1f32",
   "metadata": {},
   "source": [
    "Tokenizer = 把文字切成 token ID 的工具\n",
    "\n",
    "vocab_size=32000：字典大小，有 32k 個 token（詞彙單位）\n",
    "\n",
    "model_max_length=2048：最多能處理 2048 個 token 的序列\n",
    "\n",
    "special_tokens：像 BOS <s>、EOS </s>，控制輸入/輸出的邊界\n",
    "\n",
    "這是「輸入管道」：文字先經過 tokenizer → 轉成數字 ID"
   ]
  },
  {
   "cell_type": "code",
   "execution_count": 3,
   "id": "90d2b01b",
   "metadata": {},
   "outputs": [
    {
     "name": "stdout",
     "output_type": "stream",
     "text": [
      "LlamaForCausalLM(\n",
      "  (model): LlamaModel(\n",
      "    (embed_tokens): Embedding(32000, 2048)\n",
      "    (layers): ModuleList(\n",
      "      (0-21): 22 x LlamaDecoderLayer(\n",
      "        (self_attn): LlamaAttention(\n",
      "          (q_proj): Linear(in_features=2048, out_features=2048, bias=False)\n",
      "          (k_proj): Linear(in_features=2048, out_features=256, bias=False)\n",
      "          (v_proj): Linear(in_features=2048, out_features=256, bias=False)\n",
      "          (o_proj): Linear(in_features=2048, out_features=2048, bias=False)\n",
      "        )\n",
      "        (mlp): LlamaMLP(\n",
      "          (gate_proj): Linear(in_features=2048, out_features=5632, bias=False)\n",
      "          (up_proj): Linear(in_features=2048, out_features=5632, bias=False)\n",
      "          (down_proj): Linear(in_features=5632, out_features=2048, bias=False)\n",
      "          (act_fn): SiLU()\n",
      "        )\n",
      "        (input_layernorm): LlamaRMSNorm((2048,), eps=1e-05)\n",
      "        (post_attention_layernorm): LlamaRMSNorm((2048,), eps=1e-05)\n",
      "      )\n",
      "    )\n",
      "    (norm): LlamaRMSNorm((2048,), eps=1e-05)\n",
      "    (rotary_emb): LlamaRotaryEmbedding()\n",
      "  )\n",
      "  (lm_head): Linear(in_features=2048, out_features=32000, bias=False)\n",
      ")\n"
     ]
    }
   ],
   "source": [
    "print(model)"
   ]
  },
  {
   "cell_type": "markdown",
   "id": "08be427c",
   "metadata": {},
   "source": [
    "Embedding(32000, 2048)\n",
    "每個 token ID 對應一個 2048 維的向量\n",
    "\n",
    "22 層 LlamaDecoderLayer\n",
    "這就是 Transformer Decoder 堆疊\n",
    "\n",
    "每層有 Self-Attention（Q/K/V 投影 + 輸出）\n",
    "\n",
    "MLP 前饋層（gate_proj → up_proj → down_proj）\n",
    "\n",
    "LayerNorm（RMSNorm）\n",
    "\n",
    "LlamaAttention 裡特別之處：\n",
    "q_proj: 2048→2048\n",
    "k_proj, v_proj: 2048→256（壓縮了維度 → 減少運算量）\n",
    "o_proj: 2048→2048\n",
    "\n",
    "RotaryEmbedding (RoPE)\n",
    "用於 attention 的位置編碼，讓模型理解 token 順序\n",
    "\n",
    "lm_head (Linear 2048→32000)\n",
    "最後一層，全連接層，輸出每個 token 的機率分佈"
   ]
  }
 ],
 "metadata": {
  "kernelspec": {
   "display_name": "ai-core",
   "language": "python",
   "name": "python3"
  },
  "language_info": {
   "codemirror_mode": {
    "name": "ipython",
    "version": 3
   },
   "file_extension": ".py",
   "mimetype": "text/x-python",
   "name": "python",
   "nbconvert_exporter": "python",
   "pygments_lexer": "ipython3",
   "version": "3.11.13"
  }
 },
 "nbformat": 4,
 "nbformat_minor": 5
}
